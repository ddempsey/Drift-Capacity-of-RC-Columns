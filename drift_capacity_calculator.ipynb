{
 "cells": [
  {
   "cell_type": "markdown",
   "id": "e6d9f4ed",
   "metadata": {},
   "source": [
    "# heading\n",
    "## heading\n",
    "some introductory text\n",
    "\n",
    "$$e=g$$"
   ]
  },
  {
   "cell_type": "code",
   "execution_count": 14,
   "id": "a98c93f7",
   "metadata": {},
   "outputs": [
    {
     "name": "stdout",
     "output_type": "stream",
     "text": [
      "['C:\\\\Users\\\\dde62\\\\code\\\\Drift-Capacity-of-RC-Columns', 'C:\\\\Users\\\\dde62\\\\Anaconda3\\\\python39.zip', 'C:\\\\Users\\\\dde62\\\\Anaconda3\\\\DLLs', 'C:\\\\Users\\\\dde62\\\\Anaconda3\\\\lib', 'C:\\\\Users\\\\dde62\\\\Anaconda3', '', 'C:\\\\Users\\\\dde62\\\\Anaconda3\\\\lib\\\\site-packages', 'C:\\\\Users\\\\dde62\\\\Anaconda3\\\\lib\\\\site-packages\\\\pyfehm-1.0.4-py3.9.egg', 'C:\\\\Users\\\\dde62\\\\Anaconda3\\\\lib\\\\site-packages\\\\win32', 'C:\\\\Users\\\\dde62\\\\Anaconda3\\\\lib\\\\site-packages\\\\win32\\\\lib', 'C:\\\\Users\\\\dde62\\\\Anaconda3\\\\lib\\\\site-packages\\\\Pythonwin', 'c:\\\\users\\\\dde62\\\\anaconda3\\\\envs\\\\dcc\\\\lib\\\\site-pacakages', 'c:\\\\Users\\\\dde62\\\\Anaconda3\\\\envs\\\\dcc\\\\lib\\\\site-pacakages', 'C:\\\\Users\\\\dde62\\\\Anaconda3\\\\envs\\\\dcc\\\\lib\\\\site-pacakages', 'C:\\\\Users\\\\dde62\\\\Anaconda3\\\\envs\\\\dcc\\\\Lib\\\\site-pacakages']\n"
     ]
    }
   ],
   "source": [
    "# I needed this for my local install - hopefully won't need it in binder\n",
    "import sys\n",
    "print(sys.path)\n",
    "sys.path.append(r'C:\\Users\\dde62\\Anaconda3\\envs\\dcc\\Lib\\site-packages')"
   ]
  },
  {
   "cell_type": "code",
   "execution_count": 22,
   "id": "780cfb39",
   "metadata": {},
   "outputs": [
    {
     "data": {
      "application/vnd.jupyter.widget-view+json": {
       "model_id": "ceafd69389a44c1db614de8ea5b54811",
       "version_major": 2,
       "version_minor": 0
      },
      "text/plain": [
       "VBox(children=(HBox(children=(IntSlider(value=150, continuous_update=False, description='$T_m$', max=240, min=…"
      ]
     },
     "metadata": {},
     "output_type": "display_data"
    }
   ],
   "source": [
    "## this text only required while you are debugging the python file drift_capacity_calculator.py\n",
    "from importlib import reload\n",
    "import drift_capacity_calculator\n",
    "reload(drift_capacity_calculator)\n",
    "### delete this text once you're done\n",
    "\n",
    "from drift_capacity_calculator import drift_calculator\n",
    "drift_calculator()"
   ]
  }
 ],
 "metadata": {
  "kernelspec": {
   "display_name": "Python 3 (ipykernel)",
   "language": "python",
   "name": "python3"
  },
  "language_info": {
   "codemirror_mode": {
    "name": "ipython",
    "version": 3
   },
   "file_extension": ".py",
   "mimetype": "text/x-python",
   "name": "python",
   "nbconvert_exporter": "python",
   "pygments_lexer": "ipython3",
   "version": "3.9.12"
  }
 },
 "nbformat": 4,
 "nbformat_minor": 5
}
